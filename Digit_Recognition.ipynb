{
  "cells": [
    {
      "cell_type": "markdown",
      "metadata": {
        "id": "view-in-github",
        "colab_type": "text"
      },
      "source": [
        "<a href=\"https://colab.research.google.com/github/Boora-Raman/House-Price-Prediction/blob/main/Digit_Recognition.ipynb\" target=\"_parent\"><img src=\"https://colab.research.google.com/assets/colab-badge.svg\" alt=\"Open In Colab\"/></a>"
      ]
    },
    {
      "cell_type": "code",
      "execution_count": 1,
      "metadata": {
        "id": "SgPje18M7prf"
      },
      "outputs": [],
      "source": [
        "import numpy as np\n",
        "import pandas as pd\n",
        "from sklearn.preprocessing import OneHotEncoder"
      ]
    },
    {
      "cell_type": "code",
      "execution_count": 2,
      "metadata": {
        "id": "ynUNAAdTbJ6R"
      },
      "outputs": [],
      "source": [
        "dataset = pd.read_csv(\"/content/mnist_test.csv\")\n",
        "data_array = np.array(dataset)\n",
        "np.random.shuffle(data_array)\n",
        "test_set = data_array[:1000].T\n",
        "train_set = data_array[1000:].T\n",
        "test_labels = test_set[0]\n",
        "test_features = test_set[1:]\n",
        "train_labels = train_set[0]\n",
        "train_features = train_set[1:]\n",
        "train_features = train_features / 255.0\n",
        "test_features = test_features / 255.0\n"
      ]
    },
    {
      "cell_type": "code",
      "execution_count": 3,
      "metadata": {
        "id": "OGFU4fdVbcdJ"
      },
      "outputs": [],
      "source": [
        "def initialize_parameters():\n",
        "    weight1 = np.random.randn(10, 784)*0.01\n",
        "    bias1 = np.zeros((10, 1))\n",
        "    Weight2 = np.random.randn(10, 10)*0.01\n",
        "    bias2 = np.zeros((10, 1))\n",
        "    return weight1, bias1, Weight2, bias2\n"
      ]
    },
    {
      "cell_type": "code",
      "execution_count": 4,
      "metadata": {
        "id": "ando2P2Gbj4m"
      },
      "outputs": [],
      "source": [
        "def encode_labels(labels):\n",
        "    labels = labels.reshape(-1, 1)\n",
        "    encoder = OneHotEncoder()\n",
        "    encoded_values = encoder.fit_transform(labels)\n",
        "    return encoded_values.T.toarray()"
      ]
    },
    {
      "cell_type": "code",
      "execution_count": 5,
      "metadata": {
        "id": "riaPXwbqYqUe"
      },
      "outputs": [],
      "source": [
        "def relu_activation(Z):\n",
        "    return np.maximum(0,Z)\n",
        "\n",
        "def softmax_activation(Z):\n",
        "    return np.exp(Z) / np.sum(np.exp(Z), axis=0)\n",
        "\n",
        "def relu_derivative(Z):\n",
        "    return Z>0\n"
      ]
    },
    {
      "cell_type": "code",
      "execution_count": 6,
      "metadata": {
        "id": "eUAouCOVbmZ2"
      },
      "outputs": [],
      "source": [
        "def forward_propagation(Weight1, bias1, Weight2, bias2, features):\n",
        "    linear1 = np.dot(Weight1, features) + bias1\n",
        "    activation1 = relu_activation(linear1)\n",
        "    linear2 = np.dot(Weight2, activation1) + bias2\n",
        "    activation2 = softmax_activation(linear2)\n",
        "    return linear1, activation1, linear2, activation2\n"
      ]
    },
    {
      "cell_type": "code",
      "execution_count": 7,
      "metadata": {
        "id": "9x-iCTbTbosy"
      },
      "outputs": [],
      "source": [
        "def backward_propagation(linear1, activation1, activation2, weight2, features, labels):\n",
        "    encoded_labels =encode_labels(labels)\n",
        "    derivative_linear2 = activation2 - encoded_labels\n",
        "    derivative_weight2 = 1 / features.shape[1] * np.dot(derivative_linear2, activation1.T)\n",
        "    derivative_bias2 = 1 / features.shape[1] * np.sum(derivative_linear2, axis=1, keepdims=True)\n",
        "    derivative_linear1 = np.dot(weight2.T, derivative_linear2) * relu_derivative(linear1)\n",
        "    derivative_Weight1 = 1 / features.shape[1] * np.dot(derivative_linear1, features.T)\n",
        "    derivative_bias1 = 1 / features.shape[1] * np.sum(derivative_linear1, axis=1, keepdims=True)\n",
        "    return derivative_Weight1, derivative_bias1, derivative_weight2, derivative_bias2"
      ]
    },
    {
      "cell_type": "code",
      "execution_count": 8,
      "metadata": {
        "id": "NSVJt9lXbxsN"
      },
      "outputs": [],
      "source": [
        "def update_parameters(weight1, bias1, weight2, bias2, derivative_Weight1, derivative_bias1, derivative_Weight2, derivative_bias2, learning_rate):\n",
        "    weight1 = weight1 - learning_rate * derivative_Weight1\n",
        "    bias1 = bias1 - learning_rate * derivative_bias1\n",
        "    weight2 = weight2 - learning_rate * derivative_Weight2\n",
        "    bias2 = bias2 - learning_rate * derivative_bias2\n",
        "    return weight1, bias1, weight2, bias2\n",
        "\n",
        "def get_predictions(activation2):\n",
        "    return np.argmax(activation2, axis=0)"
      ]
    },
    {
      "cell_type": "code",
      "execution_count": 9,
      "metadata": {
        "id": "l1Vpbq0OYqUf"
      },
      "outputs": [],
      "source": [
        "def calculate_accuracy(predictions, labels):\n",
        "    return np.mean(predictions == labels)"
      ]
    },
    {
      "cell_type": "code",
      "execution_count": 10,
      "metadata": {
        "id": "5c5jPP0Bb7YT"
      },
      "outputs": [],
      "source": [
        "def gradient_descent(features, labels, iterations, learning_rate):\n",
        "    weight1, bias1, weight2, bias2 = initialize_parameters()\n",
        "    for i in range(iterations):\n",
        "        linear1, activation1, linear2, activation2 = forward_propagation(\n",
        "            weight1, bias1, weight2, bias2, features)\n",
        "        derivative_weight1, derivative_bias1, derivative_weight2, derivative_bias2 = backward_propagation(\n",
        "            linear1, activation1, activation2, weight2, features, labels)\n",
        "        weight1, bias1, weight2, bias2 = update_parameters(\n",
        "            weight1, bias1, weight2, bias2, derivative_weight1, derivative_bias1, derivative_weight2, derivative_bias2, learning_rate)\n",
        "        if i % 10 == 0:\n",
        "            accuracy = calculate_accuracy(get_predictions(activation2), labels)\n",
        "            print(f\"Iteration: {i}, Accuracy: {accuracy:.4f}\")\n",
        "    return weight1, bias1, weight2, bias2"
      ]
    },
    {
      "cell_type": "code",
      "execution_count": 11,
      "metadata": {
        "id": "UrckFyAlYqUf"
      },
      "outputs": [],
      "source": [
        "def evaluate_model(weight1, bias1, weight2, bias2, test_features, test_labels):\n",
        "    _, _, _, activation2 = forward_propagation(weight1, bias1, weight2, bias2, test_features)\n",
        "    predictions = get_predictions(activation2)\n",
        "    accuracy = calculate_accuracy(predictions, test_labels)\n",
        "    print(f\"Test Accuracy: {accuracy:.4f}\")"
      ]
    },
    {
      "cell_type": "code",
      "execution_count": 12,
      "metadata": {
        "colab": {
          "base_uri": "https://localhost:8080/"
        },
        "id": "AnmRNlJvYqUf",
        "outputId": "964d6cc2-e531-4686-c416-796b3c4f0bcf"
      },
      "outputs": [
        {
          "output_type": "stream",
          "name": "stdout",
          "text": [
            "Iteration: 0, Accuracy: 0.1152\n",
            "Iteration: 10, Accuracy: 0.1138\n",
            "Iteration: 20, Accuracy: 0.1138\n",
            "Iteration: 30, Accuracy: 0.1138\n",
            "Iteration: 40, Accuracy: 0.1138\n",
            "Iteration: 50, Accuracy: 0.1138\n",
            "Iteration: 60, Accuracy: 0.1139\n",
            "Iteration: 70, Accuracy: 0.1236\n",
            "Iteration: 80, Accuracy: 0.1473\n",
            "Iteration: 90, Accuracy: 0.2338\n",
            "Iteration: 100, Accuracy: 0.3192\n",
            "Iteration: 110, Accuracy: 0.3919\n",
            "Iteration: 120, Accuracy: 0.5348\n",
            "Iteration: 130, Accuracy: 0.6129\n",
            "Iteration: 140, Accuracy: 0.6543\n",
            "Iteration: 150, Accuracy: 0.6887\n",
            "Iteration: 160, Accuracy: 0.7118\n",
            "Iteration: 170, Accuracy: 0.7279\n",
            "Iteration: 180, Accuracy: 0.7433\n",
            "Iteration: 190, Accuracy: 0.7559\n",
            "Iteration: 200, Accuracy: 0.7646\n",
            "Iteration: 210, Accuracy: 0.7767\n",
            "Iteration: 220, Accuracy: 0.7854\n",
            "Iteration: 230, Accuracy: 0.7944\n",
            "Iteration: 240, Accuracy: 0.8030\n",
            "Iteration: 250, Accuracy: 0.8099\n",
            "Iteration: 260, Accuracy: 0.8149\n",
            "Iteration: 270, Accuracy: 0.8188\n",
            "Iteration: 280, Accuracy: 0.8241\n",
            "Iteration: 290, Accuracy: 0.8306\n",
            "Iteration: 300, Accuracy: 0.8339\n",
            "Iteration: 310, Accuracy: 0.8391\n",
            "Iteration: 320, Accuracy: 0.8432\n",
            "Iteration: 330, Accuracy: 0.8476\n",
            "Iteration: 340, Accuracy: 0.8499\n",
            "Iteration: 350, Accuracy: 0.8536\n",
            "Iteration: 360, Accuracy: 0.8559\n",
            "Iteration: 370, Accuracy: 0.8583\n",
            "Iteration: 380, Accuracy: 0.8610\n",
            "Iteration: 390, Accuracy: 0.8628\n",
            "Iteration: 400, Accuracy: 0.8648\n",
            "Iteration: 410, Accuracy: 0.8672\n",
            "Iteration: 420, Accuracy: 0.8693\n",
            "Iteration: 430, Accuracy: 0.8709\n",
            "Iteration: 440, Accuracy: 0.8731\n",
            "Iteration: 450, Accuracy: 0.8747\n",
            "Iteration: 460, Accuracy: 0.8770\n",
            "Iteration: 470, Accuracy: 0.8783\n",
            "Iteration: 480, Accuracy: 0.8798\n",
            "Iteration: 490, Accuracy: 0.8814\n"
          ]
        }
      ],
      "source": [
        "weight1, bias1, weight2, bias2 = gradient_descent(train_features, train_labels, 500, 0.1)"
      ]
    },
    {
      "cell_type": "code",
      "execution_count": 13,
      "metadata": {
        "colab": {
          "base_uri": "https://localhost:8080/"
        },
        "id": "HvYM8PEAYqUg",
        "outputId": "cc3af49c-f93d-4c6a-cb81-b28d396df72b"
      },
      "outputs": [
        {
          "output_type": "stream",
          "name": "stdout",
          "text": [
            "Test Accuracy: 0.8830\n"
          ]
        }
      ],
      "source": [
        "evaluate_model(weight1,bias1,weight2,bias2,test_features,test_labels)"
      ]
    },
    {
      "cell_type": "code",
      "execution_count": 13,
      "metadata": {
        "id": "dZix07ABYqUg"
      },
      "outputs": [],
      "source": []
    }
  ],
  "metadata": {
    "colab": {
      "provenance": [],
      "include_colab_link": true
    },
    "kernelspec": {
      "display_name": "Python 3 (ipykernel)",
      "language": "python",
      "name": "python3"
    },
    "language_info": {
      "codemirror_mode": {
        "name": "ipython",
        "version": 3
      },
      "file_extension": ".py",
      "mimetype": "text/x-python",
      "name": "python",
      "nbconvert_exporter": "python",
      "pygments_lexer": "ipython3",
      "version": "3.12.7"
    }
  },
  "nbformat": 4,
  "nbformat_minor": 0
}